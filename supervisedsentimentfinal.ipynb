{
 "cells": [
  {
   "cell_type": "code",
   "execution_count": 1,
   "id": "4814ce3d",
   "metadata": {},
   "outputs": [],
   "source": [
    "from sklearn.feature_extraction.text import CountVectorizer\n",
    "import pandas as pd\n",
    "from sklearn.model_selection import train_test_split\n",
    "from sklearn.metrics import accuracy_score\n",
    "from sklearn.metrics import classification_report\n",
    "from sklearn.metrics import confusion_matrix"
   ]
  },
  {
   "cell_type": "code",
   "execution_count": 2,
   "id": "fda17bb2",
   "metadata": {},
   "outputs": [],
   "source": [
    "df=pd.read_csv(\"tweets_lemmatized2.csv\")"
   ]
  },
  {
   "cell_type": "code",
   "execution_count": 9,
   "id": "ee0192a8",
   "metadata": {},
   "outputs": [
    {
     "data": {
      "text/plain": [
       "Neutral     2201\n",
       "Positive     940\n",
       "Negative     863\n",
       "Name: polarity, dtype: int64"
      ]
     },
     "execution_count": 9,
     "metadata": {},
     "output_type": "execute_result"
    }
   ],
   "source": [
    "df['polarity'].value_counts()"
   ]
  },
  {
   "cell_type": "code",
   "execution_count": 10,
   "id": "d177c04e",
   "metadata": {},
   "outputs": [],
   "source": [
    "X=df['content']\n",
    "y=df['polarity']"
   ]
  },
  {
   "cell_type": "code",
   "execution_count": 11,
   "id": "1ac9c7ca",
   "metadata": {},
   "outputs": [],
   "source": [
    "Xtrain, Xtest, ytrain, ytest = train_test_split(X, y,test_size=0.2,random_state=1)"
   ]
  },
  {
   "cell_type": "code",
   "execution_count": 12,
   "id": "c8343b3d",
   "metadata": {},
   "outputs": [],
   "source": [
    "vector=CountVectorizer()"
   ]
  },
  {
   "cell_type": "code",
   "execution_count": 13,
   "id": "d7072c05",
   "metadata": {},
   "outputs": [],
   "source": [
    "X_train=vector.fit_transform(Xtrain)"
   ]
  },
  {
   "cell_type": "code",
   "execution_count": 14,
   "id": "58ad0e62",
   "metadata": {},
   "outputs": [],
   "source": [
    "X_test=vector.transform(Xtest)"
   ]
  },
  {
   "cell_type": "markdown",
   "id": "bed57ecb",
   "metadata": {},
   "source": [
    "# Multinomial NB"
   ]
  },
  {
   "cell_type": "code",
   "execution_count": 15,
   "id": "762dfb83",
   "metadata": {},
   "outputs": [],
   "source": [
    "from sklearn.naive_bayes import MultinomialNB"
   ]
  },
  {
   "cell_type": "code",
   "execution_count": 16,
   "id": "a160a696",
   "metadata": {},
   "outputs": [
    {
     "name": "stdout",
     "output_type": "stream",
     "text": [
      "              precision    recall  f1-score   support\n",
      "\n",
      "    Negative       0.58      0.51      0.55       169\n",
      "     Neutral       0.73      0.87      0.79       454\n",
      "    Positive       0.67      0.43      0.52       178\n",
      "\n",
      "    accuracy                           0.69       801\n",
      "   macro avg       0.66      0.60      0.62       801\n",
      "weighted avg       0.69      0.69      0.68       801\n",
      "\n"
     ]
    }
   ],
   "source": [
    "model=MultinomialNB()\n",
    "model.fit(X_train,ytrain)\n",
    "y_pred=model.predict(X_test)\n",
    "print(classification_report(ytest,y_pred))"
   ]
  },
  {
   "cell_type": "markdown",
   "id": "e050c2d8",
   "metadata": {},
   "source": [
    "# RandomForest"
   ]
  },
  {
   "cell_type": "code",
   "execution_count": 17,
   "id": "dc36c657",
   "metadata": {},
   "outputs": [
    {
     "name": "stdout",
     "output_type": "stream",
     "text": [
      "              precision    recall  f1-score   support\n",
      "\n",
      "    Negative       0.54      0.29      0.38       169\n",
      "     Neutral       0.69      0.88      0.78       454\n",
      "    Positive       0.64      0.49      0.55       178\n",
      "\n",
      "    accuracy                           0.67       801\n",
      "   macro avg       0.62      0.55      0.57       801\n",
      "weighted avg       0.65      0.67      0.64       801\n",
      "\n"
     ]
    }
   ],
   "source": [
    "from sklearn.ensemble import RandomForestClassifier\n",
    "rmodel=RandomForestClassifier()\n",
    "rmodel.fit(X_train,ytrain)\n",
    "ypred1=rmodel.predict(X_test)\n",
    "print(classification_report(ytest,ypred1))"
   ]
  },
  {
   "cell_type": "code",
   "execution_count": 34,
   "id": "db654a42",
   "metadata": {},
   "outputs": [
    {
     "name": "stdout",
     "output_type": "stream",
     "text": [
      "After optimization: 0.6317103620474407\n",
      "              precision    recall  f1-score   support\n",
      "\n",
      "    Negative       0.75      0.11      0.19       169\n",
      "     Neutral       0.61      0.98      0.75       454\n",
      "    Positive       0.84      0.24      0.38       178\n",
      "\n",
      "    accuracy                           0.63       801\n",
      "   macro avg       0.74      0.44      0.44       801\n",
      "weighted avg       0.69      0.63      0.55       801\n",
      "\n",
      "{'max_depth': 30, 'min_samples_leaf': 1, 'min_samples_split': 10, 'n_estimators': 100}\n"
     ]
    }
   ],
   "source": [
    "from sklearn.model_selection import GridSearchCV\n",
    "from sklearn.metrics import accuracy_score\n",
    "parameters = dict(n_estimators = [100,300,500,800,1200], max_depth = [5, 8, 15, 25, 30],  \n",
    "              min_samples_split = [2, 5, 10, 15, 100], \n",
    "             min_samples_leaf = [1, 2, 5, 10])\n",
    "gridmodelrf = GridSearchCV(rmodel, parameters, cv = 3,n_jobs=-1,scoring=\"f1_micro\")\n",
    "gridmodelrf.fit(X_train, ytrain)\n",
    "grmodel=gridmodelrf.predict(X_test)\n",
    "print('After optimization: '+ str(accuracy_score(ytest, grmodel)))\n",
    "print(classification_report(ytest,grmodel))\n",
    "print(gridmodelrf.best_params_)\n",
    "print(gridmodelrf.best_score_)\n"
   ]
  },
  {
   "cell_type": "code",
   "execution_count": 35,
   "id": "e817942a",
   "metadata": {},
   "outputs": [
    {
     "name": "stdout",
     "output_type": "stream",
     "text": [
      "0.6109908888491073\n"
     ]
    }
   ],
   "source": []
  },
  {
   "cell_type": "markdown",
   "id": "cdd5bf20",
   "metadata": {},
   "source": [
    "# SVM"
   ]
  },
  {
   "cell_type": "code",
   "execution_count": 26,
   "id": "2fe2355c",
   "metadata": {},
   "outputs": [
    {
     "name": "stdout",
     "output_type": "stream",
     "text": [
      "              precision    recall  f1-score   support\n",
      "\n",
      "    Negative       0.53      0.34      0.41       169\n",
      "     Neutral       0.69      0.91      0.78       454\n",
      "    Positive       0.80      0.45      0.58       178\n",
      "\n",
      "    accuracy                           0.68       801\n",
      "   macro avg       0.67      0.56      0.59       801\n",
      "weighted avg       0.68      0.68      0.66       801\n",
      "\n"
     ]
    }
   ],
   "source": [
    "from sklearn.svm import SVC\n",
    "\n",
    "smodel=SVC()\n",
    "smodel.fit(X_train, ytrain)\n",
    "ypred2=smodel.predict(X_test)\n",
    "accuracy_score(ytest,ypred2)\n",
    "print(classification_report(ytest,ypred2))"
   ]
  },
  {
   "cell_type": "code",
   "execution_count": 32,
   "id": "8ccada81",
   "metadata": {},
   "outputs": [
    {
     "name": "stdout",
     "output_type": "stream",
     "text": [
      "{'C': 10, 'gamma': 0.1, 'kernel': 'rbf'}\n",
      "After optimization: 0.6741573033707865\n",
      "              precision    recall  f1-score   support\n",
      "\n",
      "    Negative       0.51      0.41      0.46       169\n",
      "     Neutral       0.74      0.83      0.78       454\n",
      "    Positive       0.61      0.51      0.56       178\n",
      "\n",
      "    accuracy                           0.67       801\n",
      "   macro avg       0.62      0.59      0.60       801\n",
      "weighted avg       0.66      0.67      0.66       801\n",
      "\n"
     ]
    }
   ],
   "source": [
    "from sklearn.model_selection import GridSearchCV\n",
    "from sklearn.metrics import f1_score, make_scorer\n",
    "svc_parameters=dict(C= [0.1, 1, 10, 100, 1000],\n",
    "              gamma= [1, 0.1, 0.01, 0.001, 0.0001],\n",
    "              kernel= ['rbf'])\n",
    "gridmodelsvc = GridSearchCV(smodel, svc_parameters, cv = 3,n_jobs=-1, scoring=\"f1_micro\")\n",
    "gridmodelsvc.fit(X_train, ytrain)\n",
    "svcmodel=gridmodelsvc.predict(X_test)\n",
    "\n",
    "\n",
    "print(gridmodelsvc.best_params_)\n",
    "print('After optimization: '+ str(accuracy_score(ytest, svcmodel)))\n",
    "print(classification_report(ytest,svcmodel))"
   ]
  },
  {
   "cell_type": "markdown",
   "id": "90d857b5",
   "metadata": {},
   "source": [
    "# KNN"
   ]
  },
  {
   "cell_type": "code",
   "execution_count": 22,
   "id": "56839d14",
   "metadata": {},
   "outputs": [
    {
     "name": "stdout",
     "output_type": "stream",
     "text": [
      "              precision    recall  f1-score   support\n",
      "\n",
      "    Negative       0.70      0.11      0.19       169\n",
      "     Neutral       0.62      0.97      0.76       454\n",
      "    Positive       0.80      0.29      0.43       178\n",
      "\n",
      "    accuracy                           0.64       801\n",
      "   macro avg       0.71      0.46      0.46       801\n",
      "weighted avg       0.68      0.64      0.56       801\n",
      "\n"
     ]
    }
   ],
   "source": [
    "from sklearn.neighbors import KNeighborsClassifier\n",
    "kmodel = KNeighborsClassifier()\n",
    "kmodel.fit(X_train, ytrain)\n",
    "ypred3=kmodel.predict(X_test)\n",
    "accuracy_score(ytest,ypred3)\n",
    "print(classification_report(ytest,ypred3))"
   ]
  },
  {
   "cell_type": "code",
   "execution_count": 33,
   "id": "614aa90d",
   "metadata": {},
   "outputs": [
    {
     "name": "stdout",
     "output_type": "stream",
     "text": [
      "{'metric': 'cosine', 'n_neighbors': 3, 'weights': 'distance'}\n",
      "After optimization: 0.6541822721598003\n",
      "              precision    recall  f1-score   support\n",
      "\n",
      "    Negative       0.54      0.30      0.38       169\n",
      "     Neutral       0.69      0.87      0.77       454\n",
      "    Positive       0.60      0.45      0.51       178\n",
      "\n",
      "    accuracy                           0.65       801\n",
      "   macro avg       0.61      0.54      0.55       801\n",
      "weighted avg       0.64      0.65      0.63       801\n",
      "\n"
     ]
    }
   ],
   "source": [
    "kn_parameters=dict(n_neighbors=[3,5,11,19,26,30,40,45,60,100],weights=['uniform','distance'],\n",
    "                   metric=['euclidean','manhattan','cosine'])\n",
    "gridmodelkn = GridSearchCV(kmodel, kn_parameters, cv = 3,n_jobs=-1,scoring=\"f1_micro\")\n",
    "gridmodelkn.fit(X_train, ytrain)\n",
    "\n",
    "knmodel=gridmodelkn.predict(X_test)\n",
    "print(gridmodelkn.best_params_)\n",
    "print('After optimization: ' + str(accuracy_score(ytest, knmodel)))\n",
    "print(classification_report(ytest,knmodel))"
   ]
  },
  {
   "cell_type": "code",
   "execution_count": null,
   "id": "f1f19b5a",
   "metadata": {},
   "outputs": [],
   "source": []
  }
 ],
 "metadata": {
  "kernelspec": {
   "display_name": "Python 3",
   "language": "python",
   "name": "python3"
  },
  "language_info": {
   "codemirror_mode": {
    "name": "ipython",
    "version": 3
   },
   "file_extension": ".py",
   "mimetype": "text/x-python",
   "name": "python",
   "nbconvert_exporter": "python",
   "pygments_lexer": "ipython3",
   "version": "3.8.8"
  }
 },
 "nbformat": 4,
 "nbformat_minor": 5
}
