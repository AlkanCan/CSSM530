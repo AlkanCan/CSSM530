{
 "cells": [
  {
   "cell_type": "code",
   "execution_count": null,
   "id": "4814ce3d",
   "metadata": {},
   "outputs": [],
   "source": [
    "from sklearn.feature_extraction.text import CountVectorizer\n",
    "import pandas as pd\n",
    "from sklearn.model_selection import train_test_split\n",
    "from sklearn.metrics import accuracy_score\n",
    "from sklearn.metrics import classification_report\n",
    "from sklearn.metrics import confusion_matrix"
   ]
  },
  {
   "cell_type": "code",
   "execution_count": null,
   "id": "fda17bb2",
   "metadata": {},
   "outputs": [],
   "source": [
    "df=pd.read_csv(\"tweets_lemmatized.csv\")"
   ]
  },
  {
   "cell_type": "code",
   "execution_count": null,
   "id": "ee0192a8",
   "metadata": {},
   "outputs": [],
   "source": [
    "df['polarity'].value_counts()"
   ]
  },
  {
   "cell_type": "code",
   "execution_count": null,
   "id": "d177c04e",
   "metadata": {},
   "outputs": [],
   "source": [
    "X=df['content']\n",
    "y=df['polarity']"
   ]
  },
  {
   "cell_type": "code",
   "execution_count": null,
   "id": "1ac9c7ca",
   "metadata": {},
   "outputs": [],
   "source": [
    "Xtrain, Xtest, ytrain, ytest = train_test_split(X, y,test_size=0.2,random_state=1)"
   ]
  },
  {
   "cell_type": "code",
   "execution_count": null,
   "id": "294418cf",
   "metadata": {},
   "outputs": [],
   "source": [
    "df['polarity'].value_counts()"
   ]
  },
  {
   "cell_type": "code",
   "execution_count": null,
   "id": "c8343b3d",
   "metadata": {},
   "outputs": [],
   "source": [
    "vector=CountVectorizer()"
   ]
  },
  {
   "cell_type": "code",
   "execution_count": null,
   "id": "d7072c05",
   "metadata": {},
   "outputs": [],
   "source": [
    "X_train=vector.fit_transform(Xtrain)"
   ]
  },
  {
   "cell_type": "code",
   "execution_count": null,
   "id": "58ad0e62",
   "metadata": {},
   "outputs": [],
   "source": [
    "X_test=vector.transform(Xtest)"
   ]
  },
  {
   "cell_type": "markdown",
   "id": "bed57ecb",
   "metadata": {},
   "source": [
    "# Multinomial NB"
   ]
  },
  {
   "cell_type": "code",
   "execution_count": null,
   "id": "762dfb83",
   "metadata": {},
   "outputs": [],
   "source": [
    "from sklearn.naive_bayes import MultinomialNB"
   ]
  },
  {
   "cell_type": "code",
   "execution_count": null,
   "id": "a160a696",
   "metadata": {},
   "outputs": [],
   "source": [
    "model=MultinomialNB()"
   ]
  },
  {
   "cell_type": "code",
   "execution_count": null,
   "id": "4ce4abe5",
   "metadata": {},
   "outputs": [],
   "source": [
    "model.fit(X_train,ytrain)"
   ]
  },
  {
   "cell_type": "code",
   "execution_count": null,
   "id": "822a8eeb",
   "metadata": {},
   "outputs": [],
   "source": [
    "accuracy = model.score(X_test, ytest)"
   ]
  },
  {
   "cell_type": "code",
   "execution_count": null,
   "id": "f67ed92f",
   "metadata": {},
   "outputs": [],
   "source": [
    "accuracy"
   ]
  },
  {
   "cell_type": "code",
   "execution_count": null,
   "id": "684c2b59",
   "metadata": {},
   "outputs": [],
   "source": [
    "y_pred=model.predict(X_test)"
   ]
  },
  {
   "cell_type": "code",
   "execution_count": null,
   "id": "3e6b4510",
   "metadata": {},
   "outputs": [],
   "source": [
    "print(classification_report(ytest,y_pred))"
   ]
  },
  {
   "cell_type": "code",
   "execution_count": null,
   "id": "14ef55a9",
   "metadata": {},
   "outputs": [],
   "source": [
    "confusion_matrix(ytest, y_pred)"
   ]
  },
  {
   "cell_type": "markdown",
   "id": "e050c2d8",
   "metadata": {},
   "source": [
    "# RandomForest"
   ]
  },
  {
   "cell_type": "code",
   "execution_count": null,
   "id": "dc36c657",
   "metadata": {},
   "outputs": [],
   "source": [
    "from sklearn.ensemble import RandomForestClassifier\n",
    "rmodel=RandomForestClassifier()\n",
    "rmodel.fit(X_train,ytrain)\n",
    "ypred1=rmodel.predict(X_test)\n",
    "accuracy_score(ytest,ypred1)"
   ]
  },
  {
   "cell_type": "code",
   "execution_count": null,
   "id": "13fa724a",
   "metadata": {},
   "outputs": [],
   "source": [
    "print(classification_report(ytest,ypred1))"
   ]
  },
  {
   "cell_type": "markdown",
   "id": "cdd5bf20",
   "metadata": {},
   "source": [
    "# SVM"
   ]
  },
  {
   "cell_type": "code",
   "execution_count": null,
   "id": "2fe2355c",
   "metadata": {},
   "outputs": [],
   "source": [
    "from sklearn.svm import SVC\n",
    "\n",
    "smodel=SVC()\n",
    "smodel.fit(X_train, ytrain)\n",
    "ypred2=smodel.predict(X_test)\n",
    "accuracy_score(ytest,ypred2)"
   ]
  },
  {
   "cell_type": "code",
   "execution_count": null,
   "id": "49cf7e41",
   "metadata": {},
   "outputs": [],
   "source": [
    "print(classification_report(ytest,ypred2))"
   ]
  },
  {
   "cell_type": "markdown",
   "id": "90d857b5",
   "metadata": {},
   "source": [
    "# KNN"
   ]
  },
  {
   "cell_type": "code",
   "execution_count": null,
   "id": "56839d14",
   "metadata": {},
   "outputs": [],
   "source": [
    "from sklearn.neighbors import KNeighborsClassifier\n",
    "kmodel = KNeighborsClassifier()\n",
    "kmodel.fit(X_train, ytrain)\n",
    "ypred3=kmodel.predict(X_test)\n",
    "accuracy_score(ytest,ypred3)\n",
    "           "
   ]
  },
  {
   "cell_type": "code",
   "execution_count": null,
   "id": "b87b54c6",
   "metadata": {},
   "outputs": [],
   "source": [
    "print(classification_report(ytest,ypred3))"
   ]
  }
 ],
 "metadata": {
  "kernelspec": {
   "display_name": "Python 3",
   "language": "python",
   "name": "python3"
  },
  "language_info": {
   "codemirror_mode": {
    "name": "ipython",
    "version": 3
   },
   "file_extension": ".py",
   "mimetype": "text/x-python",
   "name": "python",
   "nbconvert_exporter": "python",
   "pygments_lexer": "ipython3",
   "version": "3.8.8"
  }
 },
 "nbformat": 4,
 "nbformat_minor": 5
}
