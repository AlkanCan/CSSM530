{
 "cells": [
  {
   "cell_type": "code",
   "execution_count": 1,
   "id": "4814ce3d",
   "metadata": {},
   "outputs": [],
   "source": [
    "from sklearn.feature_extraction.text import CountVectorizer\n",
    "import pandas as pd\n",
    "from sklearn.model_selection import train_test_split\n",
    "from sklearn.metrics import accuracy_score\n",
    "from sklearn.metrics import classification_report\n",
    "from sklearn.metrics import confusion_matrix"
   ]
  },
  {
   "cell_type": "code",
   "execution_count": 4,
   "id": "fda17bb2",
   "metadata": {},
   "outputs": [],
   "source": [
    "df=pd.read_csv(\"tweets_lemmatized.csv\")\n",
    "df.copy()\n",
    "df[\"polarity\"].replace({\"nt\": \"Neutral\", \"p\": \"Positive\",\"n\":\"Negative\",'np':'Negative'}, inplace=True)"
   ]
  },
  {
   "cell_type": "code",
   "execution_count": 5,
   "id": "ee0192a8",
   "metadata": {},
   "outputs": [
    {
     "data": {
      "text/plain": [
       "Neutral     1169\n",
       "Positive     459\n",
       "Negative     376\n",
       "Name: polarity, dtype: int64"
      ]
     },
     "execution_count": 5,
     "metadata": {},
     "output_type": "execute_result"
    }
   ],
   "source": [
    "df['polarity'].value_counts()"
   ]
  },
  {
   "cell_type": "code",
   "execution_count": 6,
   "id": "d177c04e",
   "metadata": {},
   "outputs": [],
   "source": [
    "X=df['content']\n",
    "y=df['polarity']"
   ]
  },
  {
   "cell_type": "code",
   "execution_count": 7,
   "id": "1ac9c7ca",
   "metadata": {},
   "outputs": [],
   "source": [
    "Xtrain, Xtest, ytrain, ytest = train_test_split(X, y,test_size=0.2,random_state=1)"
   ]
  },
  {
   "cell_type": "code",
   "execution_count": 8,
   "id": "c8343b3d",
   "metadata": {},
   "outputs": [],
   "source": [
    "vector=CountVectorizer()"
   ]
  },
  {
   "cell_type": "code",
   "execution_count": 9,
   "id": "d7072c05",
   "metadata": {},
   "outputs": [],
   "source": [
    "X_train=vector.fit_transform(Xtrain)"
   ]
  },
  {
   "cell_type": "code",
   "execution_count": 10,
   "id": "58ad0e62",
   "metadata": {},
   "outputs": [],
   "source": [
    "X_test=vector.transform(Xtest)"
   ]
  },
  {
   "cell_type": "markdown",
   "id": "bed57ecb",
   "metadata": {},
   "source": [
    "# Multinomial NB"
   ]
  },
  {
   "cell_type": "code",
   "execution_count": 12,
   "id": "762dfb83",
   "metadata": {},
   "outputs": [],
   "source": [
    "from sklearn.naive_bayes import MultinomialNB"
   ]
  },
  {
   "cell_type": "code",
   "execution_count": 13,
   "id": "a160a696",
   "metadata": {},
   "outputs": [
    {
     "name": "stdout",
     "output_type": "stream",
     "text": [
      "              precision    recall  f1-score   support\n",
      "\n",
      "    Negative       0.68      0.59      0.63        74\n",
      "     Neutral       0.79      0.90      0.84       231\n",
      "    Positive       0.74      0.55      0.63        96\n",
      "\n",
      "    accuracy                           0.76       401\n",
      "   macro avg       0.73      0.68      0.70       401\n",
      "weighted avg       0.76      0.76      0.75       401\n",
      "\n"
     ]
    }
   ],
   "source": [
    "model=MultinomialNB()\n",
    "model.fit(X_train,ytrain)\n",
    "y_pred=model.predict(X_test)\n",
    "print(classification_report(ytest,y_pred))"
   ]
  },
  {
   "cell_type": "markdown",
   "id": "e050c2d8",
   "metadata": {},
   "source": [
    "# RandomForest"
   ]
  },
  {
   "cell_type": "code",
   "execution_count": 15,
   "id": "dc36c657",
   "metadata": {},
   "outputs": [
    {
     "name": "stdout",
     "output_type": "stream",
     "text": [
      "              precision    recall  f1-score   support\n",
      "\n",
      "    Negative       0.75      0.41      0.53        74\n",
      "     Neutral       0.72      0.93      0.81       231\n",
      "    Positive       0.68      0.46      0.55        96\n",
      "\n",
      "    accuracy                           0.72       401\n",
      "   macro avg       0.72      0.60      0.63       401\n",
      "weighted avg       0.72      0.72      0.70       401\n",
      "\n"
     ]
    }
   ],
   "source": [
    "from sklearn.ensemble import RandomForestClassifier\n",
    "rmodel=RandomForestClassifier()\n",
    "rmodel.fit(X_train,ytrain)\n",
    "ypred1=rmodel.predict(X_test)\n",
    "print(classification_report(ytest,ypred1))"
   ]
  },
  {
   "cell_type": "markdown",
   "id": "cdd5bf20",
   "metadata": {},
   "source": [
    "# SVM"
   ]
  },
  {
   "cell_type": "code",
   "execution_count": 16,
   "id": "2fe2355c",
   "metadata": {},
   "outputs": [
    {
     "name": "stdout",
     "output_type": "stream",
     "text": [
      "              precision    recall  f1-score   support\n",
      "\n",
      "    Negative       0.69      0.39      0.50        74\n",
      "     Neutral       0.71      0.96      0.81       231\n",
      "    Positive       0.84      0.40      0.54        96\n",
      "\n",
      "    accuracy                           0.72       401\n",
      "   macro avg       0.75      0.58      0.62       401\n",
      "weighted avg       0.74      0.72      0.69       401\n",
      "\n"
     ]
    }
   ],
   "source": [
    "from sklearn.svm import SVC\n",
    "\n",
    "smodel=SVC()\n",
    "smodel.fit(X_train, ytrain)\n",
    "ypred2=smodel.predict(X_test)\n",
    "accuracy_score(ytest,ypred2)\n",
    "print(classification_report(ytest,ypred2))"
   ]
  },
  {
   "cell_type": "markdown",
   "id": "90d857b5",
   "metadata": {},
   "source": [
    "# KNN"
   ]
  },
  {
   "cell_type": "code",
   "execution_count": 17,
   "id": "56839d14",
   "metadata": {},
   "outputs": [
    {
     "name": "stdout",
     "output_type": "stream",
     "text": [
      "              precision    recall  f1-score   support\n",
      "\n",
      "    Negative       0.75      0.12      0.21        74\n",
      "     Neutral       0.63      0.97      0.76       231\n",
      "    Positive       0.81      0.26      0.39        96\n",
      "\n",
      "    accuracy                           0.65       401\n",
      "   macro avg       0.73      0.45      0.46       401\n",
      "weighted avg       0.69      0.65      0.57       401\n",
      "\n"
     ]
    }
   ],
   "source": [
    "from sklearn.neighbors import KNeighborsClassifier\n",
    "kmodel = KNeighborsClassifier()\n",
    "kmodel.fit(X_train, ytrain)\n",
    "ypred3=kmodel.predict(X_test)\n",
    "accuracy_score(ytest,ypred3)\n",
    "print(classification_report(ytest,ypred3))"
   ]
  }
 ],
 "metadata": {
  "kernelspec": {
   "display_name": "Python 3",
   "language": "python",
   "name": "python3"
  },
  "language_info": {
   "codemirror_mode": {
    "name": "ipython",
    "version": 3
   },
   "file_extension": ".py",
   "mimetype": "text/x-python",
   "name": "python",
   "nbconvert_exporter": "python",
   "pygments_lexer": "ipython3",
   "version": "3.8.8"
  }
 },
 "nbformat": 4,
 "nbformat_minor": 5
}
