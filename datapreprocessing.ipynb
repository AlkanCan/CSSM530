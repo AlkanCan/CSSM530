{
 "cells": [
  {
   "cell_type": "code",
   "execution_count": 7,
   "id": "c5fe25dc",
   "metadata": {},
   "outputs": [],
   "source": [
    "import pandas as pd\n",
    "import numpy as np\n",
    "import sys\n",
    "import matplotlib.pyplot as plt"
   ]
  },
  {
   "cell_type": "code",
   "execution_count": 8,
   "id": "9ccb0fa9",
   "metadata": {},
   "outputs": [],
   "source": [
    "df1=pd.read_excel('tweets_beforecoup.xlsx', engine='openpyxl')"
   ]
  },
  {
   "cell_type": "code",
   "execution_count": 9,
   "id": "b7026516",
   "metadata": {},
   "outputs": [],
   "source": [
    "df1=df1[['content','date','polarity']]"
   ]
  },
  {
   "cell_type": "code",
   "execution_count": 10,
   "id": "af08fe60",
   "metadata": {},
   "outputs": [],
   "source": [
    "df1=df1.dropna()"
   ]
  },
  {
   "cell_type": "code",
   "execution_count": 11,
   "id": "c6d33422",
   "metadata": {},
   "outputs": [],
   "source": [
    "df1.copy()\n",
    "df1[\"polarity\"].replace({\"nt\": \"Neutral\", \"p\": \"Positive\",\"n\":\"Negative\",'np':'Negative'}, inplace=True)"
   ]
  },
  {
   "cell_type": "code",
   "execution_count": 12,
   "id": "3166028c",
   "metadata": {},
   "outputs": [
    {
     "data": {
      "image/png": "[encoded data removed]",
      "text/plain": [
       "<Figure size 432x288 with 1 Axes>"
      ]
     },
     "metadata": {},
     "output_type": "display_data"
    },
    {
     "data": {
      "text/plain": [
       "Neutral     625\n",
       "Positive    211\n",
       "Negative    168\n",
       "Name: polarity, dtype: int64"
      ]
     },
     "execution_count": 12,
     "metadata": {},
     "output_type": "execute_result"
    }
   ],
   "source": [
    "plt.pie(df1['polarity'].value_counts(),labels=['Neutral','Positive','Negative'],autopct='%1.1f%%')\n",
    "plt.show()\n",
    "df1['polarity'].value_counts()\n"
   ]
  },
  {
   "cell_type": "code",
   "execution_count": 13,
   "id": "931b9a8b",
   "metadata": {},
   "outputs": [],
   "source": [
    "df2=pd.read_excel('tweets_aftercoup.xlsx', engine='openpyxl')"
   ]
  },
  {
   "cell_type": "code",
   "execution_count": null,
   "id": "67e0f3bf",
   "metadata": {},
   "outputs": [],
   "source": [
    "df2"
   ]
  },
  {
   "cell_type": "code",
   "execution_count": 14,
   "id": "7c7a956a",
   "metadata": {},
   "outputs": [],
   "source": [
    "df2=df2[['content','date','polarity ']]"
   ]
  },
  {
   "cell_type": "code",
   "execution_count": 15,
   "id": "409f0641",
   "metadata": {},
   "outputs": [],
   "source": [
    "df2=df2.rename(columns = {'polarity ':'polarity'})"
   ]
  },
  {
   "cell_type": "code",
   "execution_count": 16,
   "id": "f83c91ab",
   "metadata": {},
   "outputs": [],
   "source": [
    "df2.copy()\n",
    "df2[\"polarity\"].replace({\"nt\": \"Neutral\", \"p\": \"Positive\",\"n\":\"Negative\",'np':'Negative'}, inplace=True)"
   ]
  },
  {
   "cell_type": "code",
   "execution_count": 17,
   "id": "24e3659a",
   "metadata": {},
   "outputs": [
    {
     "data": {
      "image/png": "[encoded data removed]",
      "text/plain": [
       "<Figure size 432x288 with 1 Axes>"
      ]
     },
     "metadata": {},
     "output_type": "display_data"
    },
    {
     "data": {
      "text/plain": [
       "Neutral     544\n",
       "Positive    248\n",
       "Negative    208\n",
       "Name: polarity, dtype: int64"
      ]
     },
     "execution_count": 17,
     "metadata": {},
     "output_type": "execute_result"
    }
   ],
   "source": [
    "plt.pie(df2['polarity'].value_counts(),labels=['Neutral','Positive','Negative'],autopct='%1.1f%%')\n",
    "plt.show()\n",
    "df2['polarity'].value_counts()"
   ]
  },
  {
   "cell_type": "code",
   "execution_count": 18,
   "id": "67d0a2b7",
   "metadata": {},
   "outputs": [],
   "source": [
    "df=pd.concat([df1,df2])"
   ]
  },
  {
   "cell_type": "code",
   "execution_count": 19,
   "id": "7dd29142",
   "metadata": {},
   "outputs": [],
   "source": [
    "df=df.reset_index()"
   ]
  },
  {
   "cell_type": "code",
   "execution_count": 20,
   "id": "6b89ad45",
   "metadata": {},
   "outputs": [
    {
     "data": {
      "text/html": [
       "<div>\n",
       "<style scoped>\n",
       "    .dataframe tbody tr th:only-of-type {\n",
       "        vertical-align: middle;\n",
       "    }\n",
       "\n",
       "    .dataframe tbody tr th {\n",
       "        vertical-align: top;\n",
       "    }\n",
       "\n",
       "    .dataframe thead th {\n",
       "        text-align: right;\n",
       "    }\n",
       "</style>\n",
       "<table border=\"1\" class=\"dataframe\">\n",
       "  <thead>\n",
       "    <tr style=\"text-align: right;\">\n",
       "      <th></th>\n",
       "      <th>index</th>\n",
       "      <th>content</th>\n",
       "      <th>date</th>\n",
       "      <th>polarity</th>\n",
       "    </tr>\n",
       "  </thead>\n",
       "  <tbody>\n",
       "    <tr>\n",
       "      <th>0</th>\n",
       "      <td>0</td>\n",
       "      <td>Başkanlık sistemi gelirse Türkiye daha büyük T...</td>\n",
       "      <td>2016-04-28 16:33:48+00:00</td>\n",
       "      <td>Positive</td>\n",
       "    </tr>\n",
       "    <tr>\n",
       "      <th>1</th>\n",
       "      <td>1</td>\n",
       "      <td>Başkanlık sistemi ile acaba bugünkü muktedirle...</td>\n",
       "      <td>2016-04-28 16:33:45+00:00</td>\n",
       "      <td>Negative</td>\n",
       "    </tr>\n",
       "    <tr>\n",
       "      <th>2</th>\n",
       "      <td>2</td>\n",
       "      <td>Odaklandığın başkanlık sistemi, başını yer inş...</td>\n",
       "      <td>2016-04-28 16:31:56+00:00</td>\n",
       "      <td>Negative</td>\n",
       "    </tr>\n",
       "    <tr>\n",
       "      <th>3</th>\n",
       "      <td>3</td>\n",
       "      <td>Baskanlik sistemi gelirse bu ulke biter ama in...</td>\n",
       "      <td>2016-04-28 16:31:38+00:00</td>\n",
       "      <td>Negative</td>\n",
       "    </tr>\n",
       "    <tr>\n",
       "      <th>4</th>\n",
       "      <td>4</td>\n",
       "      <td>Kürsü Genç Hukukçularda\\nParlamenter ve Başkan...</td>\n",
       "      <td>2016-04-28 16:30:50+00:00</td>\n",
       "      <td>Neutral</td>\n",
       "    </tr>\n",
       "    <tr>\n",
       "      <th>...</th>\n",
       "      <td>...</td>\n",
       "      <td>...</td>\n",
       "      <td>...</td>\n",
       "      <td>...</td>\n",
       "    </tr>\n",
       "    <tr>\n",
       "      <th>1999</th>\n",
       "      <td>995</td>\n",
       "      <td>Başkanlık sistemi tartışması Cumhurbaşkanı Erd...</td>\n",
       "      <td>2016-10-27 09:39:21+00:00</td>\n",
       "      <td>Neutral</td>\n",
       "    </tr>\n",
       "    <tr>\n",
       "      <th>2000</th>\n",
       "      <td>996</td>\n",
       "      <td>.@Medyascopetv #Periscope'ta: Başkanlık sistem...</td>\n",
       "      <td>2016-10-27 09:38:40+00:00</td>\n",
       "      <td>Neutral</td>\n",
       "    </tr>\n",
       "    <tr>\n",
       "      <th>2001</th>\n",
       "      <td>997</td>\n",
       "      <td>.@Medyascopetv auf #Periscope: Başkanlık siste...</td>\n",
       "      <td>2016-10-27 09:37:17+00:00</td>\n",
       "      <td>Neutral</td>\n",
       "    </tr>\n",
       "    <tr>\n",
       "      <th>2002</th>\n",
       "      <td>998</td>\n",
       "      <td>İşte Amerikan başkanlık sistemi https://t.co/M...</td>\n",
       "      <td>2016-10-27 09:36:55+00:00</td>\n",
       "      <td>Neutral</td>\n",
       "    </tr>\n",
       "    <tr>\n",
       "      <th>2003</th>\n",
       "      <td>999</td>\n",
       "      <td>.@Medyascopetv on #Periscope: Başkanlık sistem...</td>\n",
       "      <td>2016-10-27 09:36:15+00:00</td>\n",
       "      <td>Neutral</td>\n",
       "    </tr>\n",
       "  </tbody>\n",
       "</table>\n",
       "<p>2004 rows × 4 columns</p>\n",
       "</div>"
      ],
      "text/plain": [
       "      index                                            content  \\\n",
       "0         0  Başkanlık sistemi gelirse Türkiye daha büyük T...   \n",
       "1         1  Başkanlık sistemi ile acaba bugünkü muktedirle...   \n",
       "2         2  Odaklandığın başkanlık sistemi, başını yer inş...   \n",
       "3         3  Baskanlik sistemi gelirse bu ulke biter ama in...   \n",
       "4         4  Kürsü Genç Hukukçularda\\nParlamenter ve Başkan...   \n",
       "...     ...                                                ...   \n",
       "1999    995  Başkanlık sistemi tartışması Cumhurbaşkanı Erd...   \n",
       "2000    996  .@Medyascopetv #Periscope'ta: Başkanlık sistem...   \n",
       "2001    997  .@Medyascopetv auf #Periscope: Başkanlık siste...   \n",
       "2002    998  İşte Amerikan başkanlık sistemi https://t.co/M...   \n",
       "2003    999  .@Medyascopetv on #Periscope: Başkanlık sistem...   \n",
       "\n",
       "                           date  polarity  \n",
       "0     2016-04-28 16:33:48+00:00  Positive  \n",
       "1     2016-04-28 16:33:45+00:00  Negative  \n",
       "2     2016-04-28 16:31:56+00:00  Negative  \n",
       "3     2016-04-28 16:31:38+00:00  Negative  \n",
       "4     2016-04-28 16:30:50+00:00   Neutral  \n",
       "...                         ...       ...  \n",
       "1999  2016-10-27 09:39:21+00:00   Neutral  \n",
       "2000  2016-10-27 09:38:40+00:00   Neutral  \n",
       "2001  2016-10-27 09:37:17+00:00   Neutral  \n",
       "2002  2016-10-27 09:36:55+00:00   Neutral  \n",
       "2003  2016-10-27 09:36:15+00:00   Neutral  \n",
       "\n",
       "[2004 rows x 4 columns]"
      ]
     },
     "execution_count": 20,
     "metadata": {},
     "output_type": "execute_result"
    }
   ],
   "source": [
    "df"
   ]
  },
  {
   "cell_type": "markdown",
   "id": "e8e65a52",
   "metadata": {},
   "source": [
    "# PREPROCESSING"
   ]
  },
  {
   "cell_type": "code",
   "execution_count": 21,
   "id": "9f180b48",
   "metadata": {},
   "outputs": [],
   "source": [
    "import re"
   ]
  },
  {
   "cell_type": "code",
   "execution_count": 22,
   "id": "89c88a3a",
   "metadata": {},
   "outputs": [
    {
     "data": {
      "text/html": [
       "<div>\n",
       "<style scoped>\n",
       "    .dataframe tbody tr th:only-of-type {\n",
       "        vertical-align: middle;\n",
       "    }\n",
       "\n",
       "    .dataframe tbody tr th {\n",
       "        vertical-align: top;\n",
       "    }\n",
       "\n",
       "    .dataframe thead th {\n",
       "        text-align: right;\n",
       "    }\n",
       "</style>\n",
       "<table border=\"1\" class=\"dataframe\">\n",
       "  <thead>\n",
       "    <tr style=\"text-align: right;\">\n",
       "      <th></th>\n",
       "      <th>index</th>\n",
       "      <th>content</th>\n",
       "      <th>date</th>\n",
       "      <th>polarity</th>\n",
       "    </tr>\n",
       "  </thead>\n",
       "  <tbody>\n",
       "    <tr>\n",
       "      <th>0</th>\n",
       "      <td>0</td>\n",
       "      <td>başkanlık sistemi gelirse türkiye daha büyük t...</td>\n",
       "      <td>2016-04-28 16:33:48+00:00</td>\n",
       "      <td>Positive</td>\n",
       "    </tr>\n",
       "    <tr>\n",
       "      <th>1</th>\n",
       "      <td>1</td>\n",
       "      <td>başkanlık sistemi ile acaba bugünkü muktedirle...</td>\n",
       "      <td>2016-04-28 16:33:45+00:00</td>\n",
       "      <td>Negative</td>\n",
       "    </tr>\n",
       "    <tr>\n",
       "      <th>2</th>\n",
       "      <td>2</td>\n",
       "      <td>odaklandığın başkanlık sistemi, başını yer inş...</td>\n",
       "      <td>2016-04-28 16:31:56+00:00</td>\n",
       "      <td>Negative</td>\n",
       "    </tr>\n",
       "    <tr>\n",
       "      <th>3</th>\n",
       "      <td>3</td>\n",
       "      <td>baskanlik sistemi gelirse bu ulke biter ama in...</td>\n",
       "      <td>2016-04-28 16:31:38+00:00</td>\n",
       "      <td>Negative</td>\n",
       "    </tr>\n",
       "    <tr>\n",
       "      <th>4</th>\n",
       "      <td>4</td>\n",
       "      <td>kürsü genç hukukçularda\\nparlamenter ve başkan...</td>\n",
       "      <td>2016-04-28 16:30:50+00:00</td>\n",
       "      <td>Neutral</td>\n",
       "    </tr>\n",
       "  </tbody>\n",
       "</table>\n",
       "</div>"
      ],
      "text/plain": [
       "   index                                            content  \\\n",
       "0      0  başkanlık sistemi gelirse türkiye daha büyük t...   \n",
       "1      1  başkanlık sistemi ile acaba bugünkü muktedirle...   \n",
       "2      2  odaklandığın başkanlık sistemi, başını yer inş...   \n",
       "3      3  baskanlik sistemi gelirse bu ulke biter ama in...   \n",
       "4      4  kürsü genç hukukçularda\\nparlamenter ve başkan...   \n",
       "\n",
       "                        date  polarity  \n",
       "0  2016-04-28 16:33:48+00:00  Positive  \n",
       "1  2016-04-28 16:33:45+00:00  Negative  \n",
       "2  2016-04-28 16:31:56+00:00  Negative  \n",
       "3  2016-04-28 16:31:38+00:00  Negative  \n",
       "4  2016-04-28 16:30:50+00:00   Neutral  "
      ]
     },
     "execution_count": 22,
     "metadata": {},
     "output_type": "execute_result"
    }
   ],
   "source": [
    "df['content'] = [token.lower() for token in df['content']]\n",
    "df.head(5)"
   ]
  },
  {
   "cell_type": "code",
   "execution_count": 23,
   "id": "27a3734e",
   "metadata": {},
   "outputs": [
    {
     "data": {
      "text/plain": [
       "index       407\n",
       "content     407\n",
       "date        407\n",
       "polarity    407\n",
       "dtype: int64"
      ]
     },
     "execution_count": 23,
     "metadata": {},
     "output_type": "execute_result"
    }
   ],
   "source": [
    "found = df[df['content'].str.contains('\\n')]\n",
    "found.count()"
   ]
  },
  {
   "cell_type": "code",
   "execution_count": 24,
   "id": "59d8edf4",
   "metadata": {},
   "outputs": [
    {
     "data": {
      "text/plain": [
       "index       0\n",
       "content     0\n",
       "date        0\n",
       "polarity    0\n",
       "dtype: int64"
      ]
     },
     "execution_count": 24,
     "metadata": {},
     "output_type": "execute_result"
    }
   ],
   "source": [
    "df['content'] = df['content'].replace('\\n', '', regex=True)\n",
    "found = df[df['content'].str.contains('\\n')]\n",
    "found.count()"
   ]
  },
  {
   "cell_type": "code",
   "execution_count": 25,
   "id": "30419906",
   "metadata": {},
   "outputs": [
    {
     "data": {
      "text/plain": [
       "index       523\n",
       "content     523\n",
       "date        523\n",
       "polarity    523\n",
       "dtype: int64"
      ]
     },
     "execution_count": 25,
     "metadata": {},
     "output_type": "execute_result"
    }
   ],
   "source": [
    "found = df[df['content'].str.contains('@')]\n",
    "found.count()"
   ]
  },
  {
   "cell_type": "code",
   "execution_count": 26,
   "id": "d9452fb0",
   "metadata": {},
   "outputs": [
    {
     "data": {
      "text/plain": [
       "index       4\n",
       "content     4\n",
       "date        4\n",
       "polarity    4\n",
       "dtype: int64"
      ]
     },
     "execution_count": 26,
     "metadata": {},
     "output_type": "execute_result"
    }
   ],
   "source": [
    "df['content'] = df['content'].replace('@[A-Za-z0-9_]+', '', regex=True).replace('@[A-Za-z0-9_]', '', regex=True)\n",
    "found = df[df['content'].str.contains('@')]\n",
    "found.count()"
   ]
  },
  {
   "cell_type": "code",
   "execution_count": 27,
   "id": "44b2b68a",
   "metadata": {},
   "outputs": [
    {
     "data": {
      "text/html": [
       "<div>\n",
       "<style scoped>\n",
       "    .dataframe tbody tr th:only-of-type {\n",
       "        vertical-align: middle;\n",
       "    }\n",
       "\n",
       "    .dataframe tbody tr th {\n",
       "        vertical-align: top;\n",
       "    }\n",
       "\n",
       "    .dataframe thead th {\n",
       "        text-align: right;\n",
       "    }\n",
       "</style>\n",
       "<table border=\"1\" class=\"dataframe\">\n",
       "  <thead>\n",
       "    <tr style=\"text-align: right;\">\n",
       "      <th></th>\n",
       "      <th>index</th>\n",
       "      <th>content</th>\n",
       "      <th>date</th>\n",
       "      <th>polarity</th>\n",
       "    </tr>\n",
       "  </thead>\n",
       "  <tbody>\n",
       "    <tr>\n",
       "      <th>626</th>\n",
       "      <td>626</td>\n",
       "      <td>yeni anayasa ve başkanlık sistemi değerli mill...</td>\n",
       "      <td>2016-04-23 14:24:14+00:00</td>\n",
       "      <td>Neutral</td>\n",
       "    </tr>\n",
       "    <tr>\n",
       "      <th>633</th>\n",
       "      <td>633</td>\n",
       "      <td>yeni anayasa ve baskanlik sistemi - metin kulu...</td>\n",
       "      <td>2016-04-23 14:03:34+00:00</td>\n",
       "      <td>Neutral</td>\n",
       "    </tr>\n",
       "    <tr>\n",
       "      <th>691</th>\n",
       "      <td>691</td>\n",
       "      <td>bakan kılıç: başkanlık sistemi türkiye’nin önü...</td>\n",
       "      <td>2016-04-22 18:40:54+00:00</td>\n",
       "      <td>Neutral</td>\n",
       "    </tr>\n",
       "    <tr>\n",
       "      <th>1170</th>\n",
       "      <td>166</td>\n",
       "      <td>#nextstation #başkanlıksistemi 😎  @ beyoğlu ta...</td>\n",
       "      <td>2016-10-29 17:15:30+00:00</td>\n",
       "      <td>Positive</td>\n",
       "    </tr>\n",
       "  </tbody>\n",
       "</table>\n",
       "</div>"
      ],
      "text/plain": [
       "      index                                            content  \\\n",
       "626     626  yeni anayasa ve başkanlık sistemi değerli mill...   \n",
       "633     633  yeni anayasa ve baskanlik sistemi - metin kulu...   \n",
       "691     691  bakan kılıç: başkanlık sistemi türkiye’nin önü...   \n",
       "1170    166  #nextstation #başkanlıksistemi 😎  @ beyoğlu ta...   \n",
       "\n",
       "                           date  polarity  \n",
       "626   2016-04-23 14:24:14+00:00   Neutral  \n",
       "633   2016-04-23 14:03:34+00:00   Neutral  \n",
       "691   2016-04-22 18:40:54+00:00   Neutral  \n",
       "1170  2016-10-29 17:15:30+00:00  Positive  "
      ]
     },
     "execution_count": 27,
     "metadata": {},
     "output_type": "execute_result"
    }
   ],
   "source": [
    "df[df['content'].str.contains('@')]"
   ]
  },
  {
   "cell_type": "code",
   "execution_count": 28,
   "id": "afd7bbc1",
   "metadata": {},
   "outputs": [
    {
     "data": {
      "text/plain": [
       "index       0\n",
       "content     0\n",
       "date        0\n",
       "polarity    0\n",
       "dtype: int64"
      ]
     },
     "execution_count": 28,
     "metadata": {},
     "output_type": "execute_result"
    }
   ],
   "source": [
    "df['content'] = df['content'].replace('@', '', regex=True)\n",
    "found = df[df['content'].str.contains('@')]\n",
    "found.count()"
   ]
  },
  {
   "cell_type": "code",
   "execution_count": 29,
   "id": "eb929a6c",
   "metadata": {},
   "outputs": [
    {
     "data": {
      "text/plain": [
       "index       0\n",
       "content     0\n",
       "date        0\n",
       "polarity    0\n",
       "dtype: int64"
      ]
     },
     "execution_count": 29,
     "metadata": {},
     "output_type": "execute_result"
    }
   ],
   "source": [
    "df['content'] = df['content'].replace(r'http\\S+', '', regex=True).replace(r'www\\S+', '', regex=True)\n",
    "found = df[df['content'].str.contains('http')]\n",
    "found.count()"
   ]
  },
  {
   "cell_type": "markdown",
   "id": "57938839",
   "metadata": {},
   "source": [
    "# Remove Punctuations, Emojis and Numbers"
   ]
  },
  {
   "cell_type": "code",
   "execution_count": 30,
   "id": "5572f8da",
   "metadata": {},
   "outputs": [
    {
     "data": {
      "text/html": [
       "<div>\n",
       "<style scoped>\n",
       "    .dataframe tbody tr th:only-of-type {\n",
       "        vertical-align: middle;\n",
       "    }\n",
       "\n",
       "    .dataframe tbody tr th {\n",
       "        vertical-align: top;\n",
       "    }\n",
       "\n",
       "    .dataframe thead th {\n",
       "        text-align: right;\n",
       "    }\n",
       "</style>\n",
       "<table border=\"1\" class=\"dataframe\">\n",
       "  <thead>\n",
       "    <tr style=\"text-align: right;\">\n",
       "      <th></th>\n",
       "      <th>index</th>\n",
       "      <th>content</th>\n",
       "      <th>date</th>\n",
       "      <th>polarity</th>\n",
       "    </tr>\n",
       "  </thead>\n",
       "  <tbody>\n",
       "    <tr>\n",
       "      <th>0</th>\n",
       "      <td>0</td>\n",
       "      <td>başkanlık sistemi gelirse türkiye daha büyük t...</td>\n",
       "      <td>2016-04-28 16:33:48+00:00</td>\n",
       "      <td>Positive</td>\n",
       "    </tr>\n",
       "    <tr>\n",
       "      <th>1</th>\n",
       "      <td>1</td>\n",
       "      <td>başkanlık sistemi ile acaba bugünkü muktedirle...</td>\n",
       "      <td>2016-04-28 16:33:45+00:00</td>\n",
       "      <td>Negative</td>\n",
       "    </tr>\n",
       "    <tr>\n",
       "      <th>2</th>\n",
       "      <td>2</td>\n",
       "      <td>odaklandığın başkanlık sistemi, başını yer inş...</td>\n",
       "      <td>2016-04-28 16:31:56+00:00</td>\n",
       "      <td>Negative</td>\n",
       "    </tr>\n",
       "    <tr>\n",
       "      <th>3</th>\n",
       "      <td>3</td>\n",
       "      <td>baskanlik sistemi gelirse bu ulke biter ama in...</td>\n",
       "      <td>2016-04-28 16:31:38+00:00</td>\n",
       "      <td>Negative</td>\n",
       "    </tr>\n",
       "    <tr>\n",
       "      <th>4</th>\n",
       "      <td>4</td>\n",
       "      <td>kürsü genç hukukçulardaparlamenter ve başkanlı...</td>\n",
       "      <td>2016-04-28 16:30:50+00:00</td>\n",
       "      <td>Neutral</td>\n",
       "    </tr>\n",
       "    <tr>\n",
       "      <th>...</th>\n",
       "      <td>...</td>\n",
       "      <td>...</td>\n",
       "      <td>...</td>\n",
       "      <td>...</td>\n",
       "    </tr>\n",
       "    <tr>\n",
       "      <th>1999</th>\n",
       "      <td>995</td>\n",
       "      <td>başkanlık sistemi tartışması cumhurbaşkanı erd...</td>\n",
       "      <td>2016-10-27 09:39:21+00:00</td>\n",
       "      <td>Neutral</td>\n",
       "    </tr>\n",
       "    <tr>\n",
       "      <th>2000</th>\n",
       "      <td>996</td>\n",
       "      <td>. #periscope'ta: başkanlık sistemi geliyor mu?...</td>\n",
       "      <td>2016-10-27 09:38:40+00:00</td>\n",
       "      <td>Neutral</td>\n",
       "    </tr>\n",
       "    <tr>\n",
       "      <th>2001</th>\n",
       "      <td>997</td>\n",
       "      <td>. auf #periscope: başkanlık sistemi geliyor mu...</td>\n",
       "      <td>2016-10-27 09:37:17+00:00</td>\n",
       "      <td>Neutral</td>\n",
       "    </tr>\n",
       "    <tr>\n",
       "      <th>2002</th>\n",
       "      <td>998</td>\n",
       "      <td>i̇şte amerikan başkanlık sistemi   aracılığıyla</td>\n",
       "      <td>2016-10-27 09:36:55+00:00</td>\n",
       "      <td>Neutral</td>\n",
       "    </tr>\n",
       "    <tr>\n",
       "      <th>2003</th>\n",
       "      <td>999</td>\n",
       "      <td>. on #periscope: başkanlık sistemi geliyor mu?...</td>\n",
       "      <td>2016-10-27 09:36:15+00:00</td>\n",
       "      <td>Neutral</td>\n",
       "    </tr>\n",
       "  </tbody>\n",
       "</table>\n",
       "<p>2004 rows × 4 columns</p>\n",
       "</div>"
      ],
      "text/plain": [
       "      index                                            content  \\\n",
       "0         0  başkanlık sistemi gelirse türkiye daha büyük t...   \n",
       "1         1  başkanlık sistemi ile acaba bugünkü muktedirle...   \n",
       "2         2  odaklandığın başkanlık sistemi, başını yer inş...   \n",
       "3         3  baskanlik sistemi gelirse bu ulke biter ama in...   \n",
       "4         4  kürsü genç hukukçulardaparlamenter ve başkanlı...   \n",
       "...     ...                                                ...   \n",
       "1999    995  başkanlık sistemi tartışması cumhurbaşkanı erd...   \n",
       "2000    996  . #periscope'ta: başkanlık sistemi geliyor mu?...   \n",
       "2001    997  . auf #periscope: başkanlık sistemi geliyor mu...   \n",
       "2002    998    i̇şte amerikan başkanlık sistemi   aracılığıyla   \n",
       "2003    999  . on #periscope: başkanlık sistemi geliyor mu?...   \n",
       "\n",
       "                           date  polarity  \n",
       "0     2016-04-28 16:33:48+00:00  Positive  \n",
       "1     2016-04-28 16:33:45+00:00  Negative  \n",
       "2     2016-04-28 16:31:56+00:00  Negative  \n",
       "3     2016-04-28 16:31:38+00:00  Negative  \n",
       "4     2016-04-28 16:30:50+00:00   Neutral  \n",
       "...                         ...       ...  \n",
       "1999  2016-10-27 09:39:21+00:00   Neutral  \n",
       "2000  2016-10-27 09:38:40+00:00   Neutral  \n",
       "2001  2016-10-27 09:37:17+00:00   Neutral  \n",
       "2002  2016-10-27 09:36:55+00:00   Neutral  \n",
       "2003  2016-10-27 09:36:15+00:00   Neutral  \n",
       "\n",
       "[2004 rows x 4 columns]"
      ]
     },
     "execution_count": 30,
     "metadata": {},
     "output_type": "execute_result"
    }
   ],
   "source": [
    "sentences = df['content'].copy()\n",
    "new_sent = []\n",
    "i = 0\n",
    "for sentence in sentences:\n",
    "    new_sentence = re.sub('[0-9]+', '', sentence)\n",
    "    new_sent.append(new_sentence)\n",
    "    i += 1\n",
    "    \n",
    "df['content'] = new_sent\n",
    "df"
   ]
  },
  {
   "cell_type": "code",
   "execution_count": 31,
   "id": "81d5dd1d",
   "metadata": {},
   "outputs": [],
   "source": [
    "import string\n",
    "\n",
    "table = str.maketrans('', '', string.punctuation)\n",
    "sentences = df['content'].copy()\n",
    "new_sent = []\n",
    "for sentence in sentences:\n",
    "    words = sentence.split()\n",
    "    stripped = [w.translate(table) for w in words]\n",
    "    new_sent.append(stripped)\n"
   ]
  },
  {
   "cell_type": "code",
   "execution_count": 32,
   "id": "a095f778",
   "metadata": {},
   "outputs": [
    {
     "data": {
      "text/html": [
       "<div>\n",
       "<style scoped>\n",
       "    .dataframe tbody tr th:only-of-type {\n",
       "        vertical-align: middle;\n",
       "    }\n",
       "\n",
       "    .dataframe tbody tr th {\n",
       "        vertical-align: top;\n",
       "    }\n",
       "\n",
       "    .dataframe thead th {\n",
       "        text-align: right;\n",
       "    }\n",
       "</style>\n",
       "<table border=\"1\" class=\"dataframe\">\n",
       "  <thead>\n",
       "    <tr style=\"text-align: right;\">\n",
       "      <th></th>\n",
       "      <th>index</th>\n",
       "      <th>content</th>\n",
       "      <th>date</th>\n",
       "      <th>polarity</th>\n",
       "    </tr>\n",
       "  </thead>\n",
       "  <tbody>\n",
       "    <tr>\n",
       "      <th>0</th>\n",
       "      <td>0</td>\n",
       "      <td>[başkanlık, sistemi, gelirse, türkiye, daha, b...</td>\n",
       "      <td>2016-04-28 16:33:48+00:00</td>\n",
       "      <td>Positive</td>\n",
       "    </tr>\n",
       "    <tr>\n",
       "      <th>1</th>\n",
       "      <td>1</td>\n",
       "      <td>[başkanlık, sistemi, ile, acaba, bugünkü, mukt...</td>\n",
       "      <td>2016-04-28 16:33:45+00:00</td>\n",
       "      <td>Negative</td>\n",
       "    </tr>\n",
       "    <tr>\n",
       "      <th>2</th>\n",
       "      <td>2</td>\n",
       "      <td>[odaklandığın, başkanlık, sistemi, başını, yer...</td>\n",
       "      <td>2016-04-28 16:31:56+00:00</td>\n",
       "      <td>Negative</td>\n",
       "    </tr>\n",
       "    <tr>\n",
       "      <th>3</th>\n",
       "      <td>3</td>\n",
       "      <td>[baskanlik, sistemi, gelirse, bu, ulke, biter,...</td>\n",
       "      <td>2016-04-28 16:31:38+00:00</td>\n",
       "      <td>Negative</td>\n",
       "    </tr>\n",
       "    <tr>\n",
       "      <th>4</th>\n",
       "      <td>4</td>\n",
       "      <td>[kürsü, genç, hukukçulardaparlamenter, ve, baş...</td>\n",
       "      <td>2016-04-28 16:30:50+00:00</td>\n",
       "      <td>Neutral</td>\n",
       "    </tr>\n",
       "    <tr>\n",
       "      <th>...</th>\n",
       "      <td>...</td>\n",
       "      <td>...</td>\n",
       "      <td>...</td>\n",
       "      <td>...</td>\n",
       "    </tr>\n",
       "    <tr>\n",
       "      <th>1999</th>\n",
       "      <td>995</td>\n",
       "      <td>[başkanlık, sistemi, tartışması, cumhurbaşkanı...</td>\n",
       "      <td>2016-10-27 09:39:21+00:00</td>\n",
       "      <td>Neutral</td>\n",
       "    </tr>\n",
       "    <tr>\n",
       "      <th>2000</th>\n",
       "      <td>996</td>\n",
       "      <td>[, periscopeta, başkanlık, sistemi, geliyor, m...</td>\n",
       "      <td>2016-10-27 09:38:40+00:00</td>\n",
       "      <td>Neutral</td>\n",
       "    </tr>\n",
       "    <tr>\n",
       "      <th>2001</th>\n",
       "      <td>997</td>\n",
       "      <td>[, auf, periscope, başkanlık, sistemi, geliyor...</td>\n",
       "      <td>2016-10-27 09:37:17+00:00</td>\n",
       "      <td>Neutral</td>\n",
       "    </tr>\n",
       "    <tr>\n",
       "      <th>2002</th>\n",
       "      <td>998</td>\n",
       "      <td>[i̇şte, amerikan, başkanlık, sistemi, aracılığ...</td>\n",
       "      <td>2016-10-27 09:36:55+00:00</td>\n",
       "      <td>Neutral</td>\n",
       "    </tr>\n",
       "    <tr>\n",
       "      <th>2003</th>\n",
       "      <td>999</td>\n",
       "      <td>[, on, periscope, başkanlık, sistemi, geliyor,...</td>\n",
       "      <td>2016-10-27 09:36:15+00:00</td>\n",
       "      <td>Neutral</td>\n",
       "    </tr>\n",
       "  </tbody>\n",
       "</table>\n",
       "<p>2004 rows × 4 columns</p>\n",
       "</div>"
      ],
      "text/plain": [
       "      index                                            content  \\\n",
       "0         0  [başkanlık, sistemi, gelirse, türkiye, daha, b...   \n",
       "1         1  [başkanlık, sistemi, ile, acaba, bugünkü, mukt...   \n",
       "2         2  [odaklandığın, başkanlık, sistemi, başını, yer...   \n",
       "3         3  [baskanlik, sistemi, gelirse, bu, ulke, biter,...   \n",
       "4         4  [kürsü, genç, hukukçulardaparlamenter, ve, baş...   \n",
       "...     ...                                                ...   \n",
       "1999    995  [başkanlık, sistemi, tartışması, cumhurbaşkanı...   \n",
       "2000    996  [, periscopeta, başkanlık, sistemi, geliyor, m...   \n",
       "2001    997  [, auf, periscope, başkanlık, sistemi, geliyor...   \n",
       "2002    998  [i̇şte, amerikan, başkanlık, sistemi, aracılığ...   \n",
       "2003    999  [, on, periscope, başkanlık, sistemi, geliyor,...   \n",
       "\n",
       "                           date  polarity  \n",
       "0     2016-04-28 16:33:48+00:00  Positive  \n",
       "1     2016-04-28 16:33:45+00:00  Negative  \n",
       "2     2016-04-28 16:31:56+00:00  Negative  \n",
       "3     2016-04-28 16:31:38+00:00  Negative  \n",
       "4     2016-04-28 16:30:50+00:00   Neutral  \n",
       "...                         ...       ...  \n",
       "1999  2016-10-27 09:39:21+00:00   Neutral  \n",
       "2000  2016-10-27 09:38:40+00:00   Neutral  \n",
       "2001  2016-10-27 09:37:17+00:00   Neutral  \n",
       "2002  2016-10-27 09:36:55+00:00   Neutral  \n",
       "2003  2016-10-27 09:36:15+00:00   Neutral  \n",
       "\n",
       "[2004 rows x 4 columns]"
      ]
     },
     "execution_count": 32,
     "metadata": {},
     "output_type": "execute_result"
    }
   ],
   "source": [
    "df['content'] = new_sent\n",
    "df"
   ]
  },
  {
   "cell_type": "markdown",
   "id": "555fd18e",
   "metadata": {},
   "source": [
    "# Tokenization"
   ]
  },
  {
   "cell_type": "code",
   "execution_count": 34,
   "id": "434fa93a",
   "metadata": {},
   "outputs": [
    {
     "name": "stdout",
     "output_type": "stream",
     "text": [
      "2022-05-18 22:18:39,021 - zemberek.morphology.turkish_morphology - INFO\n",
      "Msg: TurkishMorphology instance initialized in 14.430339097976685\n",
      "\n"
     ]
    }
   ],
   "source": [
    "import time\n",
    "import logging\n",
    "\n",
    "from zemberek import (\n",
    "    TurkishSpellChecker,\n",
    "    TurkishSentenceNormalizer,\n",
    "    TurkishSentenceExtractor,\n",
    "    TurkishMorphology,\n",
    "    TurkishTokenizer\n",
    ")\n",
    "\n",
    "logger = logging.getLogger(__name__)\n",
    "\n",
    "morphology = TurkishMorphology.create_with_defaults()\n",
    "normalizer = TurkishSentenceNormalizer(morphology)\n",
    "extractor = TurkishSentenceExtractor()"
   ]
  },
  {
   "cell_type": "markdown",
   "id": "66c1f3af",
   "metadata": {},
   "source": [
    "# Normalization"
   ]
  },
  {
   "cell_type": "code",
   "execution_count": 35,
   "id": "120e03ea",
   "metadata": {},
   "outputs": [],
   "source": [
    "def normalize_long_text(text):\n",
    "    normalized_sentences = [normalizer.normalize(word) for word in text]\n",
    "    normalized_text = \" \".join(normalized_sentences)\n",
    "    return normalized_text"
   ]
  },
  {
   "cell_type": "code",
   "execution_count": 36,
   "id": "2d723cbf",
   "metadata": {},
   "outputs": [
    {
     "name": "stdout",
     "output_type": "stream",
     "text": [
      "2022-05-18 22:21:37,428 - __main__ - INFO\n",
      "Msg: Sentences normalized in: 148.55167889595032 s\n",
      "\n"
     ]
    }
   ],
   "source": [
    "sentences = df['content'].copy()\n",
    "new_sent = []\n",
    "start = time.time()\n",
    "\n",
    "for token in sentences:   \n",
    "    if token.count('') > 0:\n",
    "        token = list(filter(('').__ne__, token))\n",
    "    new_token = normalize_long_text(token)\n",
    "    new_sent.append(new_token)\n",
    "\n",
    "logger.info(f\"Sentences normalized in: {time.time() - start} s\")"
   ]
  },
  {
   "cell_type": "markdown",
   "id": "8639fb09",
   "metadata": {},
   "source": [
    "# Stopwords"
   ]
  },
  {
   "cell_type": "code",
   "execution_count": 33,
   "id": "d3612e91",
   "metadata": {},
   "outputs": [
    {
     "name": "stdout",
     "output_type": "stream",
     "text": [
      "{'tüm', 'birşey', 'en', 'bazı', 'birkaç', 'hepsi', 'belki', 'az', 'hem', 'ki', 'nerde', 'çok', 've', 'ise', 'nasıl', 'gibi', 'hep', 'kez', 'hiç', 'biz', 'nereye', 'niye', 'sanki', 'da', 'ama', 'mu', 'niçin', 'yani', 'biri', 'de', 'için', 'kim', 'neden', 'nerede', 'daha', 'şu', 'ya', 'veya', 'ne', 'şey', 'aslında', 'defa', 'diye', 'o', 'acaba', 'bu', 'mı', 'ile', 'mü', 'siz', 'çünkü', 'her', 'eğer'}\n"
     ]
    }
   ],
   "source": [
    "from nltk.corpus import stopwords\n",
    "\n",
    "\n",
    "stops = set(stopwords.words('turkish'))\n",
    "print(stops)"
   ]
  },
  {
   "cell_type": "code",
   "execution_count": 37,
   "id": "c3c4500c",
   "metadata": {},
   "outputs": [],
   "source": [
    "splitted_words = []\n",
    "for sent in new_sent:\n",
    "    words = sent.split()\n",
    "    splitted_words.append(words)"
   ]
  },
  {
   "cell_type": "code",
   "execution_count": 38,
   "id": "08c4af41",
   "metadata": {},
   "outputs": [],
   "source": [
    "clean_sent = []\n",
    "for sentence in splitted_words:\n",
    "    new_sentence = [w for w in sentence if w not in stops]\n",
    "    clean_sent.append(new_sentence)"
   ]
  },
  {
   "cell_type": "markdown",
   "id": "ad845034",
   "metadata": {},
   "source": [
    "# Lemmatization"
   ]
  },
  {
   "cell_type": "code",
   "execution_count": 39,
   "id": "70869087",
   "metadata": {},
   "outputs": [],
   "source": [
    "for token in clean_sent:\n",
    "    j = 0\n",
    "    for word in token:\n",
    "        new_word = word.replace('\"', '').replace(\"’\", '').replace(\"'\", '').replace(\"”\", '')\n",
    "        token[j] = new_word\n",
    "        j += 1"
   ]
  },
  {
   "cell_type": "code",
   "execution_count": null,
   "id": "964f0183",
   "metadata": {},
   "outputs": [],
   "source": [
    "import zeyrek\n",
    "\n",
    "\n",
    "analyzer = zeyrek.MorphAnalyzer()\n",
    "lem_sent = []\n",
    "for sent in clean_sent:\n",
    "    normalized_sent = []\n",
    "    for word in sent:\n",
    "        if word == '':\n",
    "            continue\n",
    "        else:\n",
    "            lem_word = analyzer.lemmatize(word)\n",
    "            normalized_sent.append(lem_word[0][1][0])\n",
    "    lem_sent.append(normalized_sent)"
   ]
  },
  {
   "cell_type": "code",
   "execution_count": null,
   "id": "cfadab1f",
   "metadata": {},
   "outputs": [],
   "source": [
    "x = lem_sent.copy()\n",
    "for sent in x:\n",
    "    i = 0\n",
    "    for token in sent:\n",
    "        sent[i] = token.lower()\n",
    "        i += 1\n",
    "lem_sent = x"
   ]
  },
  {
   "cell_type": "code",
   "execution_count": 41,
   "id": "2f1562c2",
   "metadata": {},
   "outputs": [],
   "source": [
    "lem_sent = list(filter(('').__ne__, lem_sent))"
   ]
  },
  {
   "cell_type": "code",
   "execution_count": 42,
   "id": "f0fd878a",
   "metadata": {},
   "outputs": [
    {
     "data": {
      "text/plain": [
       "0    [başkan, sistem, gelmek, Türkiye, Büyük, Türki...\n",
       "1    [başkan, sistem, bugün, muktedir, hangi, yetki...\n",
       "2    [odaklamak, başkan, sistem, baş, yermek, inşal...\n",
       "3    [başkan, sistem, gelmek, ülke, bitmek, insan, ...\n",
       "4    [kür, Genç, hukukçulardaparlamenter, başkan, s...\n",
       "Name: content, dtype: object"
      ]
     },
     "execution_count": 42,
     "metadata": {},
     "output_type": "execute_result"
    }
   ],
   "source": [
    "df['content'] = lem_sent\n",
    "df['content'].head(5)"
   ]
  },
  {
   "cell_type": "code",
   "execution_count": 43,
   "id": "f01b3c70",
   "metadata": {},
   "outputs": [],
   "source": [
    "df['content'] = df.content.apply(' '.join)"
   ]
  },
  {
   "cell_type": "code",
   "execution_count": null,
   "id": "84f60a2b",
   "metadata": {},
   "outputs": [],
   "source": [
    "df.to_csv('tweets_lemmatized.csv')"
   ]
  }
 ],
 "metadata": {
  "kernelspec": {
   "display_name": "Python 3",
   "language": "python",
   "name": "python3"
  },
  "language_info": {
   "codemirror_mode": {
    "name": "ipython",
    "version": 3
   },
   "file_extension": ".py",
   "mimetype": "text/x-python",
   "name": "python",
   "nbconvert_exporter": "python",
   "pygments_lexer": "ipython3",
   "version": "3.8.8"
  }
 },
 "nbformat": 4,
 "nbformat_minor": 5
}
